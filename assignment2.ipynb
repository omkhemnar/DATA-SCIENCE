{
 "cells": [
  {
   "cell_type": "code",
   "execution_count": 2,
   "id": "6913f103",
   "metadata": {},
   "outputs": [
    {
     "name": "stdout",
     "output_type": "stream",
     "text": [
      "  Student  Gender    Stream  Attendance (%)  Study Hours/Week Hostel Resident\n",
      "0       A    Male   Science              85                10             Yes\n",
      "1       B  Female  Commerce              92                14              No\n",
      "2       C  Female      Arts              75                11             Yes\n",
      "3       D    Male   Science              88                11              No\n",
      "4       E    Male  Commerce              60                 6             Yes\n"
     ]
    }
   ],
   "source": [
    "import pandas as pd\n",
    "\n",
    "sampledata = {\n",
    "    'Student': ['A', 'B', 'C', 'D', 'E'],\n",
    "    'Gender': ['Male', 'Female', 'Female', 'Male', 'Male'],\n",
    "    'Stream': ['Science', 'Commerce', 'Arts', 'Science', 'Commerce'],\n",
    "    'Attendance (%)': [85, 92, 75, 88, 60],\n",
    "    'Study Hours/Week': [10, 14, 11, 11, 6],\n",
    "    'Hostel Resident': ['Yes', 'No', 'Yes', 'No', 'Yes']\n",
    "}\n",
    "\n",
    "sample_df = pd.DataFrame(sampledata)\n",
    "\n",
    "print(sample_df)\n"
   ]
  },
  {
   "cell_type": "code",
   "execution_count": 3,
   "id": "e29a0ec1",
   "metadata": {},
   "outputs": [
    {
     "name": "stdout",
     "output_type": "stream",
     "text": [
      "Student: Qualitative Nominal\n",
      "Gender: Qualitative Nominal\n",
      "Stream: Qualitative Nominal\n",
      "Attendance (%): Quantitative Continuous\n",
      "Study Hours/Week: Quantitative Discrete\n",
      "Grade: Qualitative Ordinal\n",
      "Hostel Resident: Qualitative Nominal\n"
     ]
    }
   ],
   "source": [
    "column_types = {\n",
    "    'Student': 'Qualitative Nominal',\n",
    "    'Gender': 'Qualitative Nominal',\n",
    "    'Stream': 'Qualitative Nominal',\n",
    "    'Attendance (%)': 'Quantitative Continuous',\n",
    "    'Study Hours/Week': 'Quantitative Discrete',\n",
    "    'Grade': 'Qualitative Ordinal',\n",
    "    'Hostel Resident': 'Qualitative Nominal'\n",
    "}\n",
    "\n",
    "for col, dtype in column_types.items():\n",
    "    print(f\"{col}: {dtype}\")\n"
   ]
  },
  {
   "cell_type": "code",
   "execution_count": 4,
   "id": "ceb9c200",
   "metadata": {},
   "outputs": [
    {
     "data": {
      "text/plain": [
       "Student             object\n",
       "Gender              object\n",
       "Stream              object\n",
       "Attendance (%)       int64\n",
       "Study Hours/Week     int64\n",
       "Hostel Resident     object\n",
       "dtype: object"
      ]
     },
     "execution_count": 4,
     "metadata": {},
     "output_type": "execute_result"
    }
   ],
   "source": [
    "sample_df.dtypes"
   ]
  }
 ],
 "metadata": {
  "kernelspec": {
   "display_name": "Python 3",
   "language": "python",
   "name": "python3"
  },
  "language_info": {
   "codemirror_mode": {
    "name": "ipython",
    "version": 3
   },
   "file_extension": ".py",
   "mimetype": "text/x-python",
   "name": "python",
   "nbconvert_exporter": "python",
   "pygments_lexer": "ipython3",
   "version": "3.12.10"
  }
 },
 "nbformat": 4,
 "nbformat_minor": 5
}
