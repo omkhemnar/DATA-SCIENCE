{
 "cells": [
  {
   "cell_type": "markdown",
   "id": "255d32b5",
   "metadata": {},
   "source": [
    "# Om khemnar "
   ]
  },
  {
   "cell_type": "markdown",
   "id": "6c970a9e",
   "metadata": {},
   "source": []
  },
  {
   "cell_type": "markdown",
   "id": "e48325cb",
   "metadata": {},
   "source": [
    "# Import Library"
   ]
  },
  {
   "cell_type": "code",
   "execution_count": 70,
   "id": "de615596",
   "metadata": {},
   "outputs": [],
   "source": [
    "import numpy as np"
   ]
  },
  {
   "cell_type": "markdown",
   "id": "b22fad8d",
   "metadata": {},
   "source": [
    "# Creating Array"
   ]
  },
  {
   "cell_type": "code",
   "execution_count": 71,
   "id": "da06ee7d",
   "metadata": {},
   "outputs": [],
   "source": [
    "# 1D Array\n",
    "arr1 = np.array([100, 200, 300, 400, 500])"
   ]
  },
  {
   "cell_type": "code",
   "execution_count": 72,
   "id": "31ac65e0",
   "metadata": {},
   "outputs": [],
   "source": [
    "# 2D Array\n",
    "arr2 = np.array([[1, 2, 3],\n",
    "                 [4, 5, 6]])"
   ]
  },
  {
   "cell_type": "code",
   "execution_count": 73,
   "id": "f0f9fed9",
   "metadata": {},
   "outputs": [],
   "source": [
    "\n",
    "# 3D Array\n",
    "arr3 = np.array([[[1, 2], [3, 4]],\n",
    "                 [[5, 6], [7, 8]]])"
   ]
  },
  {
   "cell_type": "code",
   "execution_count": 74,
   "id": "bb939d28",
   "metadata": {},
   "outputs": [],
   "source": [
    "# Using arange\n",
    "arr_range = np.arange(1, 11)"
   ]
  },
  {
   "cell_type": "code",
   "execution_count": 75,
   "id": "d856ca23",
   "metadata": {},
   "outputs": [],
   "source": [
    "# Using linspace\n",
    "arr_lin = np.linspace(0, 1, 5)"
   ]
  },
  {
   "cell_type": "code",
   "execution_count": 76,
   "id": "d8fba146",
   "metadata": {},
   "outputs": [],
   "source": [
    "\n",
    "# Zeros, Ones, Identity\n",
    "arr_zeros = np.zeros((2,3))\n",
    "arr_ones = np.ones((3,3))\n",
    "arr_eye = np.eye(3)"
   ]
  },
  {
   "cell_type": "markdown",
   "id": "2b96fbd7",
   "metadata": {},
   "source": [
    "# Array Attributes"
   ]
  },
  {
   "cell_type": "code",
   "execution_count": 77,
   "id": "e8c72a1a",
   "metadata": {},
   "outputs": [
    {
     "name": "stdout",
     "output_type": "stream",
     "text": [
      "Shape: (2, 3)\n"
     ]
    }
   ],
   "source": [
    "# shape\n",
    "print(\"Shape:\", arr2.shape)\n"
   ]
  },
  {
   "cell_type": "code",
   "execution_count": 78,
   "id": "2b3e4b18",
   "metadata": {},
   "outputs": [
    {
     "name": "stdout",
     "output_type": "stream",
     "text": [
      "Dimensions: 2\n"
     ]
    }
   ],
   "source": [
    "# Dimensions\n",
    "print(\"Dimensions:\", arr2.ndim)"
   ]
  },
  {
   "cell_type": "code",
   "execution_count": 79,
   "id": "2cc3e003",
   "metadata": {},
   "outputs": [
    {
     "name": "stdout",
     "output_type": "stream",
     "text": [
      "Size: 6\n"
     ]
    }
   ],
   "source": [
    "# Size\n",
    "print(\"Size:\", arr2.size)"
   ]
  },
  {
   "cell_type": "code",
   "execution_count": 80,
   "id": "e3b4f5fd",
   "metadata": {},
   "outputs": [
    {
     "name": "stdout",
     "output_type": "stream",
     "text": [
      "Data Type: int64\n"
     ]
    }
   ],
   "source": [
    "#Data Type\n",
    "print(\"Data Type:\", arr2.dtype)"
   ]
  },
  {
   "cell_type": "markdown",
   "id": "7f7cfb03",
   "metadata": {},
   "source": [
    "# Indexing & Slicing"
   ]
  },
  {
   "cell_type": "code",
   "execution_count": 81,
   "id": "58afbf25",
   "metadata": {},
   "outputs": [
    {
     "name": "stdout",
     "output_type": "stream",
     "text": [
      "100\n"
     ]
    }
   ],
   "source": [
    "print(arr1[0])          # First element"
   ]
  },
  {
   "cell_type": "code",
   "execution_count": 82,
   "id": "3e8b7def",
   "metadata": {},
   "outputs": [
    {
     "name": "stdout",
     "output_type": "stream",
     "text": [
      "500\n"
     ]
    }
   ],
   "source": [
    "print(arr1[-1])         # Last element"
   ]
  },
  {
   "cell_type": "code",
   "execution_count": 83,
   "id": "3e61e697",
   "metadata": {},
   "outputs": [
    {
     "name": "stdout",
     "output_type": "stream",
     "text": [
      "[200 300 400]\n"
     ]
    }
   ],
   "source": [
    "print(arr1[1:4])        # Slice"
   ]
  },
  {
   "cell_type": "code",
   "execution_count": 84,
   "id": "bb1706bb",
   "metadata": {},
   "outputs": [
    {
     "name": "stdout",
     "output_type": "stream",
     "text": [
      "3\n"
     ]
    }
   ],
   "source": [
    "print(arr2[0, 2])       # 1st row, 3rd column"
   ]
  },
  {
   "cell_type": "code",
   "execution_count": 85,
   "id": "c405ab3c",
   "metadata": {},
   "outputs": [
    {
     "name": "stdout",
     "output_type": "stream",
     "text": [
      "[2 5]\n"
     ]
    }
   ],
   "source": [
    "print(arr2[:,1])        # All rows, 2nd column"
   ]
  },
  {
   "cell_type": "markdown",
   "id": "dcb143e0",
   "metadata": {},
   "source": [
    "# Mathematical Operations"
   ]
  },
  {
   "cell_type": "code",
   "execution_count": 86,
   "id": "f4f52ebb",
   "metadata": {},
   "outputs": [],
   "source": [
    "a = np.array([5, 10, 15])\n",
    "b = np.array([2, 4, 6])"
   ]
  },
  {
   "cell_type": "code",
   "execution_count": 87,
   "id": "9fb13410",
   "metadata": {},
   "outputs": [
    {
     "name": "stdout",
     "output_type": "stream",
     "text": [
      "Addition: [ 7 14 21]\n",
      "Subtraction: [3 6 9]\n",
      "Multiplication: [10 40 90]\n",
      "Division: [2.5 2.5 2.5]\n",
      "Square: [ 25 100 225]\n",
      "Square Root: [2.23606798 3.16227766 3.87298335]\n",
      "Exponent: [  7.3890561   54.59815003 403.42879349]\n",
      "Logarithm: [1.60943791 2.30258509 2.7080502 ]\n",
      "Dot Product: 140\n"
     ]
    }
   ],
   "source": [
    "print(\"Addition:\", a + b)         # Addition\n",
    "print(\"Subtraction:\", a - b)      # Subtraction\n",
    "print(\"Multiplication:\", a * b)   # Element-wise Multiplication\n",
    "print(\"Division:\", a / b)         # Element-wise Division\n",
    "print(\"Square:\", np.square(a))    # Square\n",
    "print(\"Square Root:\", np.sqrt(a))  # Square Root\n",
    "print(\"Exponent:\", np.exp(b))      # Exponential\n",
    "print(\"Logarithm:\", np.log(a))     # Natural Logarithm\n",
    "print(\"Dot Product:\", np.dot(a, b))  # Dot Product"
   ]
  },
  {
   "cell_type": "markdown",
   "id": "635f13ba",
   "metadata": {},
   "source": [
    "# Statistical Functions"
   ]
  },
  {
   "cell_type": "code",
   "execution_count": 88,
   "id": "c7dba38f",
   "metadata": {},
   "outputs": [],
   "source": [
    "data = np.array([12, 15, 20, 36, 18, 22, 30, 25])"
   ]
  },
  {
   "cell_type": "code",
   "execution_count": 89,
   "id": "3d3c3629",
   "metadata": {},
   "outputs": [
    {
     "name": "stdout",
     "output_type": "stream",
     "text": [
      "Mean: 22.25\n",
      "Median: 21.0\n",
      "Standard Deviation: 7.39509972887452\n",
      "Variance: 54.6875\n",
      "Minimum: 12\n",
      "Maximum: 36\n",
      "Sum: 178\n",
      "Index of Min: 0\n"
     ]
    }
   ],
   "source": [
    "print(\"Mean:\", np.mean(data))                 # Mean\n",
    "print(\"Median:\", np.median(data))             # Median\n",
    "print(\"Standard Deviation:\", np.std(data))    # Standard Deviation\n",
    "print(\"Variance:\", np.var(data))              # Variance\n",
    "print(\"Minimum:\", np.min(data))               # Minimum\n",
    "print(\"Maximum:\", np.max(data))               # Maximum\n",
    "print(\"Sum:\", np.sum(data))                   # Sum\n",
    "print(\"Index of Min:\", np.argmin(data))       # Index of Minimum"
   ]
  },
  {
   "cell_type": "markdown",
   "id": "2b6c9e5f",
   "metadata": {},
   "source": [
    "# Reshaping & Concatenation"
   ]
  },
  {
   "cell_type": "code",
   "execution_count": 90,
   "id": "07bb1142",
   "metadata": {},
   "outputs": [],
   "source": [
    "arr = np.arange(1, 13)\n",
    "\n",
    "reshaped = arr.reshape(3,4)\n",
    "flattened = reshaped.flatten()\n",
    "\n",
    "concat = np.concatenate((arr1, b))\n",
    "stacked = np.vstack((a, b))\n",
    "hstacked = np.hstack((a, b))"
   ]
  },
  {
   "cell_type": "markdown",
   "id": "5a61240c",
   "metadata": {},
   "source": [
    "# Sorting & Unique"
   ]
  },
  {
   "cell_type": "code",
   "execution_count": 91,
   "id": "d6baa01b",
   "metadata": {},
   "outputs": [
    {
     "name": "stdout",
     "output_type": "stream",
     "text": [
      "Sorted: [1 2 5 5 6 9]\n",
      "Unique: [1 2 5 6 9]\n"
     ]
    }
   ],
   "source": [
    "unsorted = np.array([5, 2, 9, 1, 5, 6])\n",
    "print(\"Sorted:\", np.sort(unsorted))\n",
    "print(\"Unique:\", np.unique(unsorted))\n"
   ]
  },
  {
   "cell_type": "markdown",
   "id": "cb4d867c",
   "metadata": {},
   "source": [
    "# User-Defined Dataset Example"
   ]
  },
  {
   "cell_type": "code",
   "execution_count": 92,
   "id": "af60c6d2",
   "metadata": {},
   "outputs": [
    {
     "name": "stdout",
     "output_type": "stream",
     "text": [
      "Dataset:\n",
      " [[78 85 90]\n",
      " [88 92 76]\n",
      " [95 80 85]\n",
      " [70 75 60]\n",
      " [65 68 72]]\n"
     ]
    }
   ],
   "source": [
    "# Dataset: Marks of 5 students in 3 subjects\n",
    "marks = np.array([[78, 85, 90],\n",
    "                  [88, 92, 76],\n",
    "                  [95, 80, 85],\n",
    "                  [70, 75, 60],\n",
    "                  [65, 68, 72]])\n",
    "\n",
    "print(\"Dataset:\\n\", marks)"
   ]
  },
  {
   "cell_type": "code",
   "execution_count": 93,
   "id": "d9615c34",
   "metadata": {},
   "outputs": [
    {
     "name": "stdout",
     "output_type": "stream",
     "text": [
      "Average marks of each student: [84.33333333 85.33333333 86.66666667 68.33333333 68.33333333]\n"
     ]
    }
   ],
   "source": [
    "# Average marks per student\n",
    "avg_student = np.mean(marks, axis=1)\n",
    "print(\"Average marks of each student:\", avg_student)\n"
   ]
  },
  {
   "cell_type": "code",
   "execution_count": 94,
   "id": "01c64e8c",
   "metadata": {},
   "outputs": [
    {
     "name": "stdout",
     "output_type": "stream",
     "text": [
      "Average marks of each subject: [79.2 80.  76.6]\n"
     ]
    }
   ],
   "source": [
    "# Average marks per subject\n",
    "avg_subject = np.mean(marks, axis=0)\n",
    "print(\"Average marks of each subject:\", avg_subject)"
   ]
  },
  {
   "cell_type": "code",
   "execution_count": 95,
   "id": "b7bf5ac9",
   "metadata": {},
   "outputs": [
    {
     "name": "stdout",
     "output_type": "stream",
     "text": [
      "Highest mark overall: 95\n"
     ]
    }
   ],
   "source": [
    "# Highest marks\n",
    "print(\"Highest mark overall:\", np.max(marks))"
   ]
  },
  {
   "cell_type": "code",
   "execution_count": 96,
   "id": "6e3f3ab3",
   "metadata": {},
   "outputs": [
    {
     "name": "stdout",
     "output_type": "stream",
     "text": [
      "Lowest mark overall: 60\n"
     ]
    }
   ],
   "source": [
    "# Lowest marks\n",
    "print(\"Lowest mark overall:\", np.min(marks))"
   ]
  },
  {
   "cell_type": "code",
   "execution_count": 97,
   "id": "0bd2db41",
   "metadata": {},
   "outputs": [
    {
     "name": "stdout",
     "output_type": "stream",
     "text": [
      "Sorted marks:\n",
      " [[78 85 90]\n",
      " [76 88 92]\n",
      " [80 85 95]\n",
      " [60 70 75]\n",
      " [65 68 72]]\n"
     ]
    }
   ],
   "source": [
    "# Sorting marks of each student\n",
    "print(\"Sorted marks:\\n\", np.sort(marks))"
   ]
  }
 ],
 "metadata": {
  "kernelspec": {
   "display_name": "Python 3",
   "language": "python",
   "name": "python3"
  },
  "language_info": {
   "codemirror_mode": {
    "name": "ipython",
    "version": 3
   },
   "file_extension": ".py",
   "mimetype": "text/x-python",
   "name": "python",
   "nbconvert_exporter": "python",
   "pygments_lexer": "ipython3",
   "version": "3.12.10"
  }
 },
 "nbformat": 4,
 "nbformat_minor": 5
}
