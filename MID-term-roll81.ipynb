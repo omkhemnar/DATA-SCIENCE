{
 "cells": [
  {
   "cell_type": "code",
   "execution_count": 4,
   "id": "69e87a4b",
   "metadata": {},
   "outputs": [
    {
     "name": "stdout",
     "output_type": "stream",
     "text": [
      "1D Array: [1 2 3 4 5]\n"
     ]
    }
   ],
   "source": [
    "# Create a 1D NumPy Array\n",
    "import numpy as np\n",
    "\n",
    "array1 = np.array([1, 2, 3, 4, 5])\n",
    "print(\"1D Array:\", array1)\n"
   ]
  },
  {
   "cell_type": "code",
   "execution_count": 6,
   "id": "b31b6146",
   "metadata": {},
   "outputs": [
    {
     "name": "stdout",
     "output_type": "stream",
     "text": [
      "\n",
      "2D Array:\n",
      "[[1 2 3]\n",
      " [4 5 6]\n",
      " [7 8 9]]\n"
     ]
    }
   ],
   "source": [
    "# Create a 2D NumPy Array\n",
    "array2 = np.array([[1, 2, 3],\n",
    "                   [4, 5, 6],\n",
    "                   [7, 8, 9]])\n",
    "print(\"\\n2D Array:\")\n",
    "print(array2)"
   ]
  },
  {
   "cell_type": "code",
   "execution_count": 7,
   "id": "9d9541ce",
   "metadata": {},
   "outputs": [
    {
     "name": "stdout",
     "output_type": "stream",
     "text": [
      "\n",
      "Shape of array2:\n",
      "(3, 3)\n"
     ]
    }
   ],
   "source": [
    "# Shape of array2\n",
    "print(\"\\nShape of array2:\")\n",
    "print(array2.shape)"
   ]
  },
  {
   "cell_type": "code",
   "execution_count": 8,
   "id": "e198706a",
   "metadata": {},
   "outputs": [
    {
     "name": "stdout",
     "output_type": "stream",
     "text": [
      "\n",
      "Reshaped Array (1x9):\n",
      "[[1 2 3 4 5 6 7 8 9]]\n"
     ]
    }
   ],
   "source": [
    "# Reshape array2 to shape (1, 9)\n",
    "reshaped_array = array2.reshape(1, 9)\n",
    "print(\"\\nReshaped Array (1x9):\")\n",
    "print(reshaped_array)"
   ]
  },
  {
   "cell_type": "code",
   "execution_count": 9,
   "id": "0f893528",
   "metadata": {},
   "outputs": [
    {
     "name": "stdout",
     "output_type": "stream",
     "text": [
      "\n",
      "Element at row 1, column 2:\n",
      "6\n"
     ]
    }
   ],
   "source": [
    "# Access element at row 1, column 2\n",
    "element = array2[1, 2]\n",
    "print(\"\\nElement at row 1, column 2:\")\n",
    "print(element)"
   ]
  },
  {
   "cell_type": "code",
   "execution_count": 10,
   "id": "bfa475fa",
   "metadata": {},
   "outputs": [
    {
     "name": "stdout",
     "output_type": "stream",
     "text": [
      "\n",
      "Sliced Array (first 2 rows and first 2 columns):\n",
      "[[1 2]\n",
      " [4 5]]\n"
     ]
    }
   ],
   "source": [
    "# Slice first 2 rows and first 2 columns\n",
    "sliced_array = array2[:2, :2]\n",
    "print(\"\\nSliced Array (first 2 rows and first 2 columns):\")\n",
    "print(sliced_array)"
   ]
  },
  {
   "cell_type": "code",
   "execution_count": 11,
   "id": "a7bea6ac",
   "metadata": {},
   "outputs": [
    {
     "name": "stdout",
     "output_type": "stream",
     "text": [
      "\n",
      "Array after adding 10:\n",
      "[[11 12 13]\n",
      " [14 15 16]\n",
      " [17 18 19]]\n"
     ]
    }
   ],
   "source": [
    "# Add 10 to every element in array2\n",
    "added_array = array2 + 10\n",
    "print(\"\\nArray after adding 10:\")\n",
    "print(added_array)"
   ]
  },
  {
   "cell_type": "code",
   "execution_count": 12,
   "id": "572a7068",
   "metadata": {},
   "outputs": [
    {
     "name": "stdout",
     "output_type": "stream",
     "text": [
      "\n",
      "Mean of array2:\n",
      "5.0\n",
      "Standard Deviation of array2:\n",
      "2.581988897471611\n"
     ]
    }
   ],
   "source": [
    "# Calculate Mean and Standard Deviation of array2\n",
    "mean_val = np.mean(array2)\n",
    "std_val = np.std(array2)\n",
    "print(\"\\nMean of array2:\")\n",
    "print(mean_val)\n",
    "print(\"Standard Deviation of array2:\")\n",
    "print(std_val)"
   ]
  },
  {
   "cell_type": "code",
   "execution_count": 13,
   "id": "e0af5fda",
   "metadata": {},
   "outputs": [
    {
     "name": "stdout",
     "output_type": "stream",
     "text": [
      "\n",
      "Random 3x3 Array:\n",
      "[[0.53098974 0.9718064  0.55353984]\n",
      " [0.10237799 0.84317265 0.63756105]\n",
      " [0.66730281 0.70784857 0.17860351]]\n"
     ]
    }
   ],
   "source": [
    "# Generate a random 3x3 array\n",
    "random_array = np.random.rand(3, 3)\n",
    "print(\"\\nRandom 3x3 Array:\")\n",
    "print(random_array)"
   ]
  },
  {
   "cell_type": "code",
   "execution_count": 14,
   "id": "d30cc93e",
   "metadata": {},
   "outputs": [
    {
     "name": "stdout",
     "output_type": "stream",
     "text": [
      "\n",
      "Matrix Multiplication (array2 * array2.T):\n",
      "[[ 14  32  50]\n",
      " [ 32  77 122]\n",
      " [ 50 122 194]]\n"
     ]
    }
   ],
   "source": [
    "# Matrix multiplication of array2 and its transpose\n",
    "matrix_product = np.dot(array2, array2.T)\n",
    "print(\"\\nMatrix Multiplication (array2 * array2.T):\")\n",
    "print(matrix_product)"
   ]
  }
 ],
 "metadata": {
  "kernelspec": {
   "display_name": "Python 3",
   "language": "python",
   "name": "python3"
  },
  "language_info": {
   "codemirror_mode": {
    "name": "ipython",
    "version": 3
   },
   "file_extension": ".py",
   "mimetype": "text/x-python",
   "name": "python",
   "nbconvert_exporter": "python",
   "pygments_lexer": "ipython3",
   "version": "3.12.10"
  }
 },
 "nbformat": 4,
 "nbformat_minor": 5
}
