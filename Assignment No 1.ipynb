{
 "cells": [
  {
   "cell_type": "code",
   "execution_count": 2,
   "id": "e4d7ea4b",
   "metadata": {},
   "outputs": [
    {
     "data": {
      "text/plain": [
       "dtype('int64')"
      ]
     },
     "execution_count": 2,
     "metadata": {},
     "output_type": "execute_result"
    }
   ],
   "source": [
    "import numpy as np\n",
    "arr1=np.array([[1,2,3],[2,4,5],[4,7,8]])\n",
    "arr1\n",
    "zeros_arr=np.zeros(5,dtype=\"int\")\n",
    "zeros_arr\n",
    "zeros_arr.dtype"
   ]
  },
  {
   "cell_type": "code",
   "execution_count": 3,
   "id": "b13165de",
   "metadata": {},
   "outputs": [
    {
     "data": {
      "text/plain": [
       "dtype('int64')"
      ]
     },
     "execution_count": 3,
     "metadata": {},
     "output_type": "execute_result"
    }
   ],
   "source": [
    "a=np.array([[1,2,3,4],[4,5,6,7],[6,8,4,9],])\n",
    "a.dtype"
   ]
  },
  {
   "cell_type": "code",
   "execution_count": 4,
   "id": "c63234ea",
   "metadata": {},
   "outputs": [
    {
     "data": {
      "text/plain": [
       "array([[1, 2, 3, 4, 4, 5],\n",
       "       [6, 7, 6, 8, 4, 9]])"
      ]
     },
     "execution_count": 4,
     "metadata": {},
     "output_type": "execute_result"
    }
   ],
   "source": [
    "c=np.array([[1,2,3],[5,7,9]])\n",
    "b=np.swapaxes(c,0,1)\n",
    "b\n",
    "c.max()\n",
    "a.reshape(2,6)"
   ]
  },
  {
   "cell_type": "code",
   "execution_count": 5,
   "id": "48b95360",
   "metadata": {},
   "outputs": [],
   "source": [
    "arr = np.linspace(1, 6, 12)\n",
    "arr\n",
    "arr_2d = arr.reshape(3, 4)\n",
    "arr_2d\n",
    "import numpy as np"
   ]
  },
  {
   "cell_type": "code",
   "execution_count": 6,
   "id": "60196da7",
   "metadata": {},
   "outputs": [
    {
     "name": "stdout",
     "output_type": "stream",
     "text": [
      "Original array:\n",
      "[1.         1.45454545 1.90909091 2.36363636 2.81818182 3.27272727\n",
      " 3.72727273 4.18181818 4.63636364 5.09090909 5.54545455 6.        ]\n",
      "\n",
      "Sorted along axis=0 (by columns):\n",
      "[1.         1.45454545 1.90909091 2.36363636 2.81818182 3.27272727\n",
      " 3.72727273 4.18181818 4.63636364 5.09090909 5.54545455 6.        ]\n"
     ]
    }
   ],
   "source": [
    "print(\"Original array:\")\n",
    "print(arr)\n",
    "\n",
    "sorted_axis0 = np.sort(arr, axis=0)\n",
    "print(\"\\nSorted along axis=0 (by columns):\")\n",
    "print(sorted_axis0)\n",
    "\n"
   ]
  },
  {
   "cell_type": "code",
   "execution_count": 7,
   "id": "d99c01f1",
   "metadata": {},
   "outputs": [
    {
     "name": "stdout",
     "output_type": "stream",
     "text": [
      "[[1 2 3]\n",
      " [2 4 5]\n",
      " [4 7 8]]\n"
     ]
    }
   ],
   "source": [
    "# Creating Array\n",
    "array1=np.array([[1,2,3,4],[5,6,7,8]])\n",
    "print(arr1)\n"
   ]
  },
  {
   "cell_type": "code",
   "execution_count": 8,
   "id": "826b8553",
   "metadata": {},
   "outputs": [
    {
     "name": "stdout",
     "output_type": "stream",
     "text": [
      "int64\n"
     ]
    }
   ],
   "source": [
    "# Printing datatype\n",
    "print(array1.dtype)"
   ]
  },
  {
   "cell_type": "code",
   "execution_count": 9,
   "id": "25d5bb6a",
   "metadata": {},
   "outputs": [
    {
     "data": {
      "text/plain": [
       "8"
      ]
     },
     "execution_count": 9,
     "metadata": {},
     "output_type": "execute_result"
    }
   ],
   "source": [
    "# Total size of array\n",
    "array1.size"
   ]
  },
  {
   "cell_type": "code",
   "execution_count": 10,
   "id": "1ef1c780",
   "metadata": {},
   "outputs": [
    {
     "data": {
      "text/plain": [
       "array([[1, 2],\n",
       "       [3, 4],\n",
       "       [5, 6],\n",
       "       [7, 8]])"
      ]
     },
     "execution_count": 10,
     "metadata": {},
     "output_type": "execute_result"
    }
   ],
   "source": [
    "# Changing shape of array\n",
    "array1.reshape(4,2)"
   ]
  },
  {
   "cell_type": "code",
   "execution_count": 11,
   "id": "9a4382a5",
   "metadata": {},
   "outputs": [],
   "source": [
    "# Creating 2nd array\n",
    "array2=np.array([2,3,4,9,5,8,1])"
   ]
  },
  {
   "cell_type": "code",
   "execution_count": 12,
   "id": "76005840",
   "metadata": {},
   "outputs": [
    {
     "name": "stdout",
     "output_type": "stream",
     "text": [
      "[2 3 4 9 5 8 1]\n"
     ]
    }
   ],
   "source": [
    "print(array2)"
   ]
  },
  {
   "cell_type": "code",
   "execution_count": 13,
   "id": "f42a2acb",
   "metadata": {},
   "outputs": [
    {
     "name": "stdout",
     "output_type": "stream",
     "text": [
      "2\n"
     ]
    }
   ],
   "source": [
    "# Indexing of array\n",
    "print(array2[-7])"
   ]
  },
  {
   "cell_type": "code",
   "execution_count": 14,
   "id": "948eb1e1",
   "metadata": {},
   "outputs": [
    {
     "name": "stdout",
     "output_type": "stream",
     "text": [
      "Addition is : [[ 7  5  8 10]\n",
      " [13 17 14  8]]\n",
      "Subtraction is : [[-3  1  0  0]\n",
      " [ 1 -1  4  4]]\n",
      "Multiplication  is : [[10  6 16 25]\n",
      " [42 72 45 12]]\n",
      "Division is : [[0.4        1.5        1.         1.        ]\n",
      " [1.16666667 0.88888889 1.8        3.        ]]\n"
     ]
    }
   ],
   "source": [
    "# mathematical operations\n",
    "x=np.array([[2,3,4,5],[7,8,9,6]])\n",
    "y=np.array([[5,2,4,5],[6,9,5,2]])\n",
    "print(\"Addition is :\",x+y)\n",
    "print(\"Subtraction is :\",x-y)\n",
    "print(\"Multiplication  is :\",x*y)\n",
    "print(\"Division is :\",x/y)"
   ]
  },
  {
   "cell_type": "code",
   "execution_count": 15,
   "id": "63d8c213",
   "metadata": {},
   "outputs": [
    {
     "name": "stdout",
     "output_type": "stream",
     "text": [
      "6\n",
      "0\n"
     ]
    }
   ],
   "source": [
    "# Min and max index\n",
    "k=np.array([1,2,3,4,5,6,7])\n",
    "print(np.argmax(k))\n",
    "print(np.argmin(k))\n"
   ]
  },
  {
   "cell_type": "code",
   "execution_count": 16,
   "id": "d565f0f2",
   "metadata": {},
   "outputs": [
    {
     "name": "stdout",
     "output_type": "stream",
     "text": [
      "[1 1 1 1 1 1]\n"
     ]
    }
   ],
   "source": [
    "# Difference between two numbers\n",
    "print(np.diff(k))"
   ]
  },
  {
   "cell_type": "code",
   "execution_count": null,
   "id": "6c555a57",
   "metadata": {},
   "outputs": [
    {
     "name": "stdout",
     "output_type": "stream",
     "text": [
      "[ 1.    3.25  5.5   7.75 10.  ]\n"
     ]
    }
   ],
   "source": [
    "# linespace \n",
    "array=np.linspace(1,10,5)\n",
    "print(array)"
   ]
  }
 ],
 "metadata": {
  "kernelspec": {
   "display_name": "Python 3",
   "language": "python",
   "name": "python3"
  },
  "language_info": {
   "codemirror_mode": {
    "name": "ipython",
    "version": 3
   },
   "file_extension": ".py",
   "mimetype": "text/x-python",
   "name": "python",
   "nbconvert_exporter": "python",
   "pygments_lexer": "ipython3",
   "version": "3.12.10"
  }
 },
 "nbformat": 4,
 "nbformat_minor": 5
}
