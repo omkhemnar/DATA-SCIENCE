{
 "cells": [
  {
   "cell_type": "code",
   "execution_count": 1,
   "id": "7892efd4",
   "metadata": {},
   "outputs": [],
   "source": [
    "import pandas as pd"
   ]
  },
  {
   "cell_type": "code",
   "execution_count": 2,
   "id": "5a5485a4",
   "metadata": {},
   "outputs": [
    {
     "name": "stdout",
     "output_type": "stream",
     "text": [
      "       ID          Name  Age  Marks  Gender\n",
      "0       1     Student_1   24     94    Male\n",
      "1       2     Student_2   21     81  Female\n",
      "2       3     Student_3   22     90    Male\n",
      "3       4     Student_4   24     56  Female\n",
      "4       5     Student_5   20     44  Female\n",
      "..    ...           ...  ...    ...     ...\n",
      "995   996   Student_996   23     82  Female\n",
      "996   997   Student_997   18     73  Female\n",
      "997   998   Student_998   24     96  Female\n",
      "998   999   Student_999   21     65    Male\n",
      "999  1000  Student_1000   23     80    Male\n",
      "\n",
      "[1000 rows x 5 columns]\n"
     ]
    }
   ],
   "source": [
    "data=pd.read_csv('student_dataset.csv')\n",
    "df=pd.DataFrame(data)\n",
    "print(df)"
   ]
  },
  {
   "cell_type": "code",
   "execution_count": 3,
   "id": "9154730a",
   "metadata": {},
   "outputs": [
    {
     "data": {
      "text/plain": [
       "ID        0\n",
       "Name      0\n",
       "Age       0\n",
       "Marks     0\n",
       "Gender    0\n",
       "dtype: int64"
      ]
     },
     "execution_count": 3,
     "metadata": {},
     "output_type": "execute_result"
    }
   ],
   "source": [
    "df.isnull().sum()    #check mising values"
   ]
  },
  {
   "cell_type": "code",
   "execution_count": 4,
   "id": "c4e6c4ac",
   "metadata": {},
   "outputs": [
    {
     "name": "stdout",
     "output_type": "stream",
     "text": [
      "       ID          Name  Age  Marks  Gender\n",
      "0       1     Student_1   24     94    Male\n",
      "1       2     Student_2   21     81  Female\n",
      "2       3     Student_3   22     90    Male\n",
      "3       4     Student_4   24     56  Female\n",
      "4       5     Student_5   20     44  Female\n",
      "..    ...           ...  ...    ...     ...\n",
      "995   996   Student_996   23     82  Female\n",
      "996   997   Student_997   18     73  Female\n",
      "997   998   Student_998   24     96  Female\n",
      "998   999   Student_999   21     65    Male\n",
      "999  1000  Student_1000   23     80    Male\n",
      "\n",
      "[1000 rows x 5 columns]\n"
     ]
    }
   ],
   "source": [
    "df.fillna(df[['Age', 'Marks']].mean(), inplace=True) # fill NaN with mean\n",
    "print(df)"
   ]
  },
  {
   "cell_type": "code",
   "execution_count": 5,
   "id": "0871d52a",
   "metadata": {},
   "outputs": [],
   "source": [
    "df.dropna()                    # remove rows with NaN\n",
    "df.duplicated().sum()          # check duplicates\n",
    "df.drop_duplicates(inplace=True)  # remove duplicates"
   ]
  },
  {
   "cell_type": "code",
   "execution_count": 6,
   "id": "f54a3486",
   "metadata": {},
   "outputs": [
    {
     "name": "stdout",
     "output_type": "stream",
     "text": [
      "\n",
      "After Filling NaN:\n",
      "        ID          Name  Age  Marks  Gender\n",
      "0       1     Student_1   24     94    Male\n",
      "1       2     Student_2   21     81  Female\n",
      "2       3     Student_3   22     90    Male\n",
      "3       4     Student_4   24     56  Female\n",
      "4       5     Student_5   20     44  Female\n",
      "..    ...           ...  ...    ...     ...\n",
      "995   996   Student_996   23     82  Female\n",
      "996   997   Student_997   18     73  Female\n",
      "997   998   Student_998   24     96  Female\n",
      "998   999   Student_999   21     65    Male\n",
      "999  1000  Student_1000   23     80    Male\n",
      "\n",
      "[1000 rows x 5 columns]\n",
      "   ID       Name  Age  Marks  Gender\n",
      "0   1  Student_1   24     94    Male\n",
      "1   2  Student_2   21     81  Female\n",
      "2   3  Student_3   22     90    Male\n",
      "3   4  Student_4   24     56  Female\n",
      "4   5  Student_5   20     44  Female\n"
     ]
    },
    {
     "name": "stderr",
     "output_type": "stream",
     "text": [
      "C:\\Users\\omkhe\\AppData\\Local\\Temp\\ipykernel_11484\\1802312897.py:1: FutureWarning: A value is trying to be set on a copy of a DataFrame or Series through chained assignment using an inplace method.\n",
      "The behavior will change in pandas 3.0. This inplace method will never work because the intermediate object on which we are setting values always behaves as a copy.\n",
      "\n",
      "For example, when doing 'df[col].method(value, inplace=True)', try using 'df.method({col: value}, inplace=True)' or df[col] = df[col].method(value) instead, to perform the operation inplace on the original object.\n",
      "\n",
      "\n",
      "  df['Marks'].fillna(df['Marks'].mean(), inplace=True)\n"
     ]
    }
   ],
   "source": [
    "df['Marks'].fillna(df['Marks'].mean(), inplace=True)\n",
    "print(\"\\nAfter Filling NaN:\\n\", df)\n",
    "print(df.head())\n"
   ]
  },
  {
   "cell_type": "code",
   "execution_count": 7,
   "id": "bd5d4c30",
   "metadata": {},
   "outputs": [
    {
     "name": "stdout",
     "output_type": "stream",
     "text": [
      "Gender\n",
      "Female    70.689861\n",
      "Male      69.768612\n",
      "Name: Marks, dtype: float64\n"
     ]
    }
   ],
   "source": [
    "print(df.groupby('Gender')['Marks'].mean())\n"
   ]
  },
  {
   "cell_type": "code",
   "execution_count": 8,
   "id": "9f84357d",
   "metadata": {},
   "outputs": [
    {
     "data": {
      "text/html": [
       "<div>\n",
       "<style scoped>\n",
       "    .dataframe tbody tr th:only-of-type {\n",
       "        vertical-align: middle;\n",
       "    }\n",
       "\n",
       "    .dataframe tbody tr th {\n",
       "        vertical-align: top;\n",
       "    }\n",
       "\n",
       "    .dataframe thead th {\n",
       "        text-align: right;\n",
       "    }\n",
       "</style>\n",
       "<table border=\"1\" class=\"dataframe\">\n",
       "  <thead>\n",
       "    <tr style=\"text-align: right;\">\n",
       "      <th></th>\n",
       "      <th>mean</th>\n",
       "      <th>max</th>\n",
       "      <th>min</th>\n",
       "      <th>count</th>\n",
       "    </tr>\n",
       "    <tr>\n",
       "      <th>Age</th>\n",
       "      <th></th>\n",
       "      <th></th>\n",
       "      <th></th>\n",
       "      <th></th>\n",
       "    </tr>\n",
       "  </thead>\n",
       "  <tbody>\n",
       "    <tr>\n",
       "      <th>18</th>\n",
       "      <td>67.641026</td>\n",
       "      <td>100</td>\n",
       "      <td>40</td>\n",
       "      <td>156</td>\n",
       "    </tr>\n",
       "    <tr>\n",
       "      <th>19</th>\n",
       "      <td>69.328467</td>\n",
       "      <td>100</td>\n",
       "      <td>40</td>\n",
       "      <td>137</td>\n",
       "    </tr>\n",
       "    <tr>\n",
       "      <th>20</th>\n",
       "      <td>71.284615</td>\n",
       "      <td>99</td>\n",
       "      <td>40</td>\n",
       "      <td>130</td>\n",
       "    </tr>\n",
       "    <tr>\n",
       "      <th>21</th>\n",
       "      <td>73.096154</td>\n",
       "      <td>100</td>\n",
       "      <td>40</td>\n",
       "      <td>156</td>\n",
       "    </tr>\n",
       "    <tr>\n",
       "      <th>22</th>\n",
       "      <td>69.824324</td>\n",
       "      <td>100</td>\n",
       "      <td>40</td>\n",
       "      <td>148</td>\n",
       "    </tr>\n",
       "    <tr>\n",
       "      <th>23</th>\n",
       "      <td>69.118519</td>\n",
       "      <td>100</td>\n",
       "      <td>40</td>\n",
       "      <td>135</td>\n",
       "    </tr>\n",
       "    <tr>\n",
       "      <th>24</th>\n",
       "      <td>71.355072</td>\n",
       "      <td>100</td>\n",
       "      <td>41</td>\n",
       "      <td>138</td>\n",
       "    </tr>\n",
       "  </tbody>\n",
       "</table>\n",
       "</div>"
      ],
      "text/plain": [
       "          mean  max  min  count\n",
       "Age                            \n",
       "18   67.641026  100   40    156\n",
       "19   69.328467  100   40    137\n",
       "20   71.284615   99   40    130\n",
       "21   73.096154  100   40    156\n",
       "22   69.824324  100   40    148\n",
       "23   69.118519  100   40    135\n",
       "24   71.355072  100   41    138"
      ]
     },
     "execution_count": 8,
     "metadata": {},
     "output_type": "execute_result"
    }
   ],
   "source": [
    "df.groupby('Age')['Marks'].agg(['mean','max','min','count'])"
   ]
  },
  {
   "cell_type": "code",
   "execution_count": 9,
   "id": "09af8be5",
   "metadata": {},
   "outputs": [
    {
     "data": {
      "text/plain": [
       "<Axes: ylabel='Frequency'>"
      ]
     },
     "execution_count": 9,
     "metadata": {},
     "output_type": "execute_result"
    },
    {
     "data": {
      "image/png": "[encoded data removed]",
      "text/plain": [
       "<Figure size 640x480 with 1 Axes>"
      ]
     },
     "metadata": {},
     "output_type": "display_data"
    }
   ],
   "source": [
    "df['Marks'].plot(kind='hist') # histogram"
   ]
  },
  {
   "cell_type": "code",
   "execution_count": 10,
   "id": "d68ade18",
   "metadata": {},
   "outputs": [
    {
     "data": {
      "text/plain": [
       "<Axes: xlabel='Gender', ylabel='Marks'>"
      ]
     },
     "execution_count": 10,
     "metadata": {},
     "output_type": "execute_result"
    },
    {
     "data": {
      "image/png": "[encoded data removed]",
      "text/plain": [
       "<Figure size 640x480 with 1 Axes>"
      ]
     },
     "metadata": {},
     "output_type": "display_data"
    }
   ],
   "source": [
    "df.plot(x='Gender', y='Marks', kind='scatter')  # scatter plot"
   ]
  },
  {
   "cell_type": "code",
   "execution_count": 11,
   "id": "183a7d6c",
   "metadata": {},
   "outputs": [
    {
     "data": {
      "text/plain": [
       "<Axes: >"
      ]
     },
     "execution_count": 11,
     "metadata": {},
     "output_type": "execute_result"
    },
    {
     "data": {
      "image/png": "[encoded data removed]",
      "text/plain": [
       "<Figure size 640x480 with 1 Axes>"
      ]
     },
     "metadata": {},
     "output_type": "display_data"
    }
   ],
   "source": [
    "df['Marks'].plot(kind='box')  # box plot"
   ]
  },
  {
   "cell_type": "code",
   "execution_count": 12,
   "id": "bf317f20",
   "metadata": {},
   "outputs": [
    {
     "name": "stdout",
     "output_type": "stream",
     "text": [
      "Class\n",
      "X    90.0\n",
      "Y    83.0\n",
      "Name: Marks, dtype: float64\n"
     ]
    }
   ],
   "source": [
    "data = {\n",
    "    'Name': ['A', 'B', 'C', 'D', 'E'],\n",
    "    'Class': ['X', 'X', 'Y', 'Y', 'X'],\n",
    "    'Marks': [85, 90, 78, 88, 95]\n",
    "}\n",
    "\n",
    "df1 = pd.DataFrame(data)\n",
    "print(df1.groupby('Class')['Marks'].mean())\n"
   ]
  },
  {
   "cell_type": "code",
   "execution_count": 13,
   "id": "a148539b",
   "metadata": {},
   "outputs": [
    {
     "name": "stdout",
     "output_type": "stream",
     "text": [
      "  Department Student  Marks  Age\n",
      "0         IT    Amit     88   21\n",
      "1         IT    Riya     92   20\n",
      "2         CS   Karan     76   23\n",
      "3         CS   Meena     85   22\n",
      "4         EC   Ankit     95   21\n",
      "5         EC    Neha     90   20\n",
      "6         IT   Rahul     88   22\n",
      "7         CS  Simran     72   24\n"
     ]
    }
   ],
   "source": [
    "data = {\n",
    "    'Department': ['IT','IT','CS','CS','EC','EC','IT','CS'],\n",
    "    'Student': ['Amit','Riya','Karan','Meena','Ankit','Neha','Rahul','Simran'],\n",
    "    'Marks': [88,92,76,85,95,90,88,72],\n",
    "    'Age': [21,20,23,22,21,20,22,24]\n",
    "}\n",
    "\n",
    "df2 = pd.DataFrame(data)\n",
    "print(df2)\n",
    "\n"
   ]
  }
 ],
 "metadata": {
  "kernelspec": {
   "display_name": "Python 3",
   "language": "python",
   "name": "python3"
  },
  "language_info": {
   "codemirror_mode": {
    "name": "ipython",
    "version": 3
   },
   "file_extension": ".py",
   "mimetype": "text/x-python",
   "name": "python",
   "nbconvert_exporter": "python",
   "pygments_lexer": "ipython3",
   "version": "3.12.10"
  }
 },
 "nbformat": 4,
 "nbformat_minor": 5
}
