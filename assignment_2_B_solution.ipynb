{
 "cells": [
  {
   "cell_type": "markdown",
   "metadata": {},
   "source": [
    "# Assignment 2 B - Student Dataset Analysis\n",
    "\n",
    "## Complete Solution with Data Analysis and Visualization"
   ]
  },
  {
   "cell_type": "code",
   "execution_count": null,
   "metadata": {},
   "outputs": [],
   "source": [
    "import pandas as pd\n",
    "import numpy as np\n",
    "import matplotlib.pyplot as plt\n",
    "import seaborn as sns\n",
    "\n",
    "# Set style for plots\n",
    "plt.style.use('seaborn-v0_8')\n",
    "sns.set_palette(\"husl\")"
   ]
  },
  {
   "cell_type": "markdown",
   "metadata": {},
   "source": [
    "## 1. Load and Explore the Dataset"
   ]
  },
  {
   "cell_type": "code",
   "execution_count": null,
   "metadata": {},
   "outputs": [],
   "source": [
    "# Load dataset\n",
    "df = pd.read_csv(\"student_dataset.csv\")\n",
    "\n",
    "# Display first few rows\n",
    "print(\"First 10 rows of the dataset:\")\n",
    "print(df.head(10))\n",
    "\n",
    "# Dataset information\n",
    "print(\"\\nDataset Information:\")\n",
    "print(f\"Shape: {df.shape}\")\n",
    "print(f\"Columns: {df.columns.tolist()}\")\n",
    "print(\"\\nData Types:\")\n",
    "print(df.dtypes)"
   ]
  },
  {
   "cell_type": "markdown",
   "metadata": {},
   "source": [
    "## 2. Data Cleaning and Missing Values"
   ]
  },
  {
   "cell_type": "code",
   "execution_count": null,
   "metadata": {},
   "outputs": [],
   "source": [
    "# Check for missing values\n",
    "print(\"Missing values in each column:\")\n",
    "missing_values = df.isnull().sum()\n",
    "print(missing_values)\n",
    "\n",
    "# Check for duplicates\n",
    "print(f\"\\nNumber of duplicate rows: {df.duplicated().sum()}\")\n",
    "\n",
    "# Basic statistics\n",
    "print(\"\\nBasic Statistics:\")\n",
    "print(df.describe())"
   ]
  },
  {
   "cell_type": "markdown",
   "metadata": {},
   "source": [
    "## 3. Data Analysis"
   ]
  },
  {
   "cell_type": "code",
   "execution_count": null,
   "metadata": {},
   "outputs": [],
   "source": [
    "# Gender distribution\n",
    "gender_counts = df['Gender'].value_counts()\n",
    "print(\"Gender Distribution:\")\n",
    "print(gender_counts)\n",
    "\n",
    "# Age distribution\n",
    "age_stats = df['Age'].describe()\n",
    "print(\"\\nAge Statistics:\")\n",
    "print(age_stats)\n",
    "\n",
    "# Marks distribution\n",
    "marks_stats = df['Marks'].describe()\n",
    "print(\"\\nMarks Statistics:\")\n",
    "print(marks_stats)\n",
    "\n",
    "# Correlation between Age and Marks\n",
    "correlation = df['Age'].corr(df['Marks'])\n",
    "print(f\"\\nCorrelation between Age and Marks: {correlation:.3f}\")"
   ]
  },
  {
   "cell_type": "markdown",
   "metadata": {},
   "source": [
    "## 4. Data Visualization"
   ]
  },
  {
   "cell_type": "code",
   "execution_count": null,
   "metadata": {},
   "outputs": [],
   "source": [
    "# Create subplots\n",
    "fig, axes = plt.subplots(2, 3, figsize=(18, 12))\n",
    "fig.suptitle('Student Dataset Analysis', fontsize=16, fontweight='bold')\n",
    "\n",
    "# 1. Gender Distribution Pie Chart\n",
    "gender_counts.plot.pie(autopct='%1.1f%%', ax=axes[0, 0])\n",
    "axes[0, 0].set_title('Gender Distribution')\n",
    "axes[0, 0].set_ylabel('')\n",
    "\n",
    "# 2. Age Distribution Histogram\n",
    "df['Age'].plot.hist(bins=15, alpha=0.7, ax=axes[0, 1])\n",
    "axes[0, 1].set_title('Age Distribution')\n",
    "axes[0, 1].set_xlabel('Age')\n",
    "axes[0, 1].set_ylabel('Frequency')\n",
    "\n",
    "# 3. Marks Distribution Histogram\n",
    "df['Marks'].plot.hist(bins=20, alpha=0.7, ax=axes[0, 2])\n",
    "axes[0, 2].set_title('Marks Distribution')\n",
    "axes[0, 2].set_xlabel('Marks')\n",
    "axes[0, 2].set_ylabel('Frequency')\n",
    "\n",
    "# 4. Boxplot of Marks by Gender\n",
    "df.boxplot(column='Marks', by='Gender', ax=axes[1, 0])\n",
    "axes[1, 0].set_title('Marks by Gender')\n",
    "axes[1, 0].set_xlabel('Gender')\n",
    "axes[1, 0].set_ylabel('Marks')\n",
    "\n",
    "# 5. Scatter Plot: Age vs Marks\n",
    "df.plot.scatter(x='Age', y='Marks', alpha=0.6, ax=axes[1, 1])\n",
    "axes[1, 1].set_title('Age vs Marks')\n",
    "axes[1, 1].set_xlabel('Age')\n",
    "axes[1, 1].set_ylabel('Marks')\n",
    "\n",
    "# 6. Marks Distribution by Age Group\n",
    "age_bins = [17, 20, 22, 24]\n",
    "age_labels = ['18-20', '21-22', '23-24']\n",
    "df['AgeGroup'] = pd.cut(df['Age'], bins=age_bins, labels=age_labels)\n",
    "df.groupby('AgeGroup')['Marks'].mean().plot.bar(ax=axes[1, 2])\n",
    "axes[1, 2].set_title('Average Marks by Age Group')\n",
    "axes[1, 2].set_xlabel('Age Group')\n",
    "axes[1, 2].set_ylabel('Average Marks')\n",
    "axes[1, 2].tick_params(axis='x', rotation=45)\n",
    "\n",
    "plt.tight_layout()\n",
    "plt.show()"
   ]
  },
  {
   "cell_type": "markdown",
   "metadata": {},
   "source": [
    "## 5. Advanced Analysis"
   ]
  },
  {
   "cell_type": "code",
   "execution_count": null,
   "metadata": {},
   "outputs": [],
   "source": [
    "# Performance categories based on marks\n",
    "def categorize_performance(marks):\n",
    "    if marks >= 90:\n",
    "        return 'Excellent'\n",
    "    elif marks >= 75:\n",
    "        return 'Good'\n",
    "    elif marks >= 60:\n",
    "        return 'Average'\n",
    "    elif marks >= 40:\n",
    "        return 'Below Average'\n",
    "    else:\n",
    "        return 'Poor'\n",
    "\n",
    "df['Performance'] = df['Marks'].apply(categorize_performance)\n",
    "\n",
    "# Performance distribution\n",
    "performance_counts = df['Performance'].value_counts()\n",
    "print(\"Performance Distribution:\")\n",
    "print(performance_counts)\n",
    "\n",
    "# Performance by gender\n",
    "performance_by_gender = pd.crosstab(df['Gender'], df['Performance'])\n",
    "print(\"\\nPerformance by Gender:\")\n",
    "print(performance_by_gender)\n",
    "\n",
    "# Performance by age group\n",
    "performance_by_age = pd.crosstab(df['AgeGroup'], df['Performance'])\n",
    "print(\"\\nPerformance by Age Group:\")\n",
    "print(performance_by_age)"
   ]
  },
  {
   "cell_type": "code",
   "execution_count": null,
   "metadata": {},
   "outputs": [],
   "source": [
    "# Visualization of performance analysis\n",
    "fig, axes = plt.subplots(1, 2, figsize=(15, 6))\n",
    "\n",
    "# Performance distribution\n",
    "performance_counts.plot.pie(autopct='%1.1f%%', ax=axes[0])\n",
    "axes[0].set_title('Performance Distribution')\n",
    "axes[0].set_ylabel('')\n",
    "\n",
    "# Performance by gender (stacked bar chart)\n",
    "performance_by_gender.plot.bar(stacked=True, ax=axes[1])\n",
    "axes[1].set_title('Performance by Gender')\n",
    "axes[1].set_xlabel('Gender')\n",
    "axes[1].set_ylabel('Count')\n",
    "axes[1].legend(title='Performance')\n",
    "\n",
    "plt.tight_layout()\n",
    "plt.show()"
   ]
  },
  {
   "cell_type": "markdown",
   "metadata": {},
   "source": [
    "## 6. Statistical Tests and Insights"
   ]
  },
  {
   "cell_type": "code",
   "execution_count": null,
   "metadata": {},
   "outputs": [],
   "source": [
    "from scipy import stats\n",
    "\n",
    "# T-test for marks difference between genders\n",
    "male_marks = df[df['Gender'] == 'Male']['Marks']\n",
    "female_marks = df[df['Gender'] == 'Female']['Marks']\n",
    "\n",
    "t_stat, p_value = stats.ttest_ind(male_marks, female_marks)\n",
    "print(f\"T-test for Marks by Gender:\")\n",
    "print(f\"T-statistic: {t_stat:.3f}\")\n",
    "print(f\"P-value: {p_value:.3f}\")\n",
    "\n",
    "if p_value < 0.05:\n",
    "    print(\"There is a statistically significant difference in marks between genders.\")\n",
    "else:\n",
    "    print(\"There is no statistically significant difference in marks between genders.\")\n",
    "\n",
    "# ANOVA test for marks across age groups\n",
    "age_groups = [df[df['AgeGroup'] == group]['Marks'] for group in age_labels]\n",
    "f_stat, p_value_anova = stats.f_oneway(*age_groups)\n",
    "print(f\"\\nANOVA test for Marks across Age Groups:\")\n",
    "print(f\"F-statistic: {f_stat:.3f}\")\n",
    "print(f\"P-value: {p_value_anova:.3f}\")\n",
    "\n",
    "if p_value_anova < 0.05:\n",
    "    print(\"There is a statistically significant difference in marks across age groups.\")\n",
    "else:\n",
    "    print(\"There is no statistically significant difference in marks across age groups.\")"
   ]
  },
  {
   "cell_type": "markdown",
   "metadata": {},
   "source": [
    "## 7. Key Insights and Summary"
   ]
  },
  {
   "cell_type": "code",
   "execution_count": null,
   "metadata": {},
   "outputs": [],
   "source": [
    "print(\"KEY INSIGHTS:\")\n",
    "print(\"=\" * 50)\n",
    "\n",
    "# Overall statistics\n",
    "print(f\"1. Total Students: {len(df)}\")\n",
    "print(f\"2. Gender Distribution: {gender_counts['Male']} Male, {gender_counts['Female']} Female\")\n",
    "print(f\"3. Average Age: {df['Age'].mean():.1f} years\")\n",
    "print(f\"4. Average Marks: {df['Marks'].mean():.1f}\")\n",
    "print(f\"5. Marks Range: {df['Marks'].min()} - {df['Marks'].max()}\")\n",
    "\n",
    "# Performance insights\n",
    "print(f\"\\n6. Performance Categories:\")\n",
    "for category, count in performance_counts.items():\n",
    "    percentage = (count / len(df)) * 100\n",
    "    print(f\"   - {category}: {count} students ({percentage:.1f}%)\")\n",
    "\n",
    "# Gender performance comparison\n",
    "male_avg = male_marks.mean()\n",
    "female_avg = female_marks.mean()\n",
    "print(f\"\\n7. Average Marks by Gender:\")\n",
    "print(f\"   - Male: {male_avg:.1f}\")\n",
    "print(f\"   - Female: {female_avg:.1f}\")\n",
    "print(f\"   - Difference: {abs(male_avg - female_avg):.1f}\")\n",
    "\n",
    "# Age group performance\n",
    "print(f\"\\n8. Average Marks by Age Group:\")\n",
    "for age_group in age_labels:\n",
    "    avg_marks = df[df['AgeGroup'] == age_group]['Marks'].mean()\n",
    "    print(f\"   - {age_group}: {avg_marks:.1f}\")\n",
    "\n",
    "# Correlation insight\n",
    "print(f\"\\n9. Correlation between Age and Marks: {correlation:.3f}\")\n",
    "if abs(correlation) > 0.3:\n",
    "    print(\"   - Moderate correlation observed\")\n",
    "elif abs(correlation) > 0.1:\n",
    "    print(\"   - Weak correlation observed\")\n",
    "else:\n",
    "    print(\"   - Very weak or no correlation observed\")\n",
    "\n",
    "# Statistical significance\n",
    "print(f\"\\n10. Statistical Tests:\")\n",
    "print(f\"    - Gender difference p-value: {p_value:.3f} {'(Significant)' if p_value < 0.05 else '(Not Significant)'}\")\n",
    "print(f\"    - Age group difference p-value: {p_value_anova:.3f} {'(Significant)' if p_value_anova < 0.05 else '(Not Significant)'}\")"
   ]
  },
  {
   "cell_type": "markdown",
   "metadata": {},
   "source": [
    "## 8. Recommendations"
   ]
  },
  {
   "cell_type": "code",
   "execution_count": null,
   "metadata": {},
   "outputs": [],
   "source": [
    "print(\"RECOMMENDATIONS:\")\n",
    "print(\"=\" * 50)\n",
    "\n",
    "# Based on analysis\n",
    "print(\"1. Focus on students with marks below 60 (Below Average and Poor categories)\")\n",
    "print(\"2. Consider gender-specific support programs if significant differences exist\")\n",
    "print(\"3. Monitor age group performance trends for targeted interventions\")\n",
    "print(\"4. Implement regular assessments to track student progress\")\n",
    "print(\"5. Provide additional support for students in the 23-24 age group if needed\")\n",
    "print(\"6. Consider peer mentoring programs between high and low performers\")\n",
    "print(\"7. Regular feedback sessions to understand challenges faced by students\")\n",
    "print(\"8. Implement data-driven decision making for academic improvements\")"
   ]
  },
  {
   "cell_type": "markdown",
   "metadata": {},
   "source": [
    "## 9. Export Cleaned Data (Optional)"
   ]
  },
  {
   "cell_type": "code",
   "execution_count": null,
   "metadata": {},
   "outputs": [],
   "source": [
    "# Export the cleaned and analyzed data\n",
    "df.to_csv('student_dataset_analyzed.csv', index=False)\n",
    "print(\"Analyzed dataset exported as 'student_dataset_analyzed.csv'\")"
   ]
  }
 ],
 "metadata": {
  "kernelspec": {
   "display_name": "Python 3",
   "language": "python",
   "name": "python3"
  },
  "language_info": {
   "codemirror_mode": {
    "name": "ipython",
    "version": 3
   },
   "file_extension": ".py",
   "mimetype": "text/x-python",
   "name": "python",
   "nbconvert_exporter": "python",
   "pygments_lexicon": "pygments",
   "version": "3.8.0"
  }
 },
 "nbformat": 4,
 "nbformat_minor": 4
}
